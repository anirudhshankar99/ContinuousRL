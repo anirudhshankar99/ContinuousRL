{
 "cells": [
  {
   "cell_type": "code",
   "execution_count": 1,
   "metadata": {
    "scrolled": true
   },
   "outputs": [],
   "source": [
    "#add environment to PYTHONPATH\n",
    "import sys\n",
    "import os\n",
    "\n",
    "import torch\n",
    "import torch.nn as nn\n",
    "import torch.nn.functional as F\n",
    "import torch.optim as optim\n",
    "from torch.distributions import Categorical, Normal\n",
    "import numpy as np\n",
    "\n",
    "import gymnasium as gym\n",
    "from tqdm import tqdm\n",
    "from collections import deque\n",
    "import continuouscartpole_env"
   ]
  },
  {
   "cell_type": "code",
   "execution_count": 2,
   "metadata": {},
   "outputs": [],
   "source": [
    "#discount factor for future utilities\n",
    "DISCOUNT_FACTOR = 0.99\n",
    "\n",
    "#number of episodes to run\n",
    "NUM_EPISODES = 2000\n",
    "\n",
    "#max steps per episode\n",
    "MAX_STEPS = 2048\n",
    "\n",
    "#score needed for environement to be considered solved\n",
    "SOLVED_SCORE = 195\n",
    "\n",
    "#device to run model on \n",
    "device = \"cuda\" if torch.cuda.is_available() and False else \"cpu\""
   ]
  },
  {
   "cell_type": "code",
   "execution_count": 3,
   "metadata": {},
   "outputs": [],
   "source": [
    "#Using a neural network to learn our policy parameters for one continuous action\n",
    "class Actor(nn.Module):\n",
    "    \n",
    "    #Takes in observations and outputs actions mu and sigma\n",
    "    def __init__(self, observation_space):\n",
    "        super(Actor, self).__init__()\n",
    "        self.input_layer = nn.Linear(observation_space, 128)\n",
    "        self.output_layer = nn.Linear(128, 2)\n",
    "    \n",
    "    #forward pass\n",
    "    def forward(self, x):\n",
    "        #input states\n",
    "        x = self.input_layer(x)\n",
    "        \n",
    "        x = F.relu(x)\n",
    "        \n",
    "        #actions\n",
    "        action_parameters = self.output_layer(x)\n",
    "        \n",
    "        return action_parameters"
   ]
  },
  {
   "cell_type": "code",
   "execution_count": 4,
   "metadata": {},
   "outputs": [],
   "source": [
    "# Critic module\n",
    "class Critic(nn.Module):\n",
    "    def __init__(self, state_dim, activation=nn.Tanh):\n",
    "        super().__init__()\n",
    "        self.model = nn.Sequential(\n",
    "            nn.Linear(state_dim, 64),\n",
    "            activation(),\n",
    "            nn.Linear(64, 32),\n",
    "            activation(),\n",
    "            nn.Linear(32, 1)\n",
    "        )\n",
    "    \n",
    "    def forward(self, X):\n",
    "        return self.model(X)"
   ]
  },
  {
   "cell_type": "code",
   "execution_count": 5,
   "metadata": {},
   "outputs": [],
   "source": [
    "def select_action(network, state):\n",
    "    ''' Selects an action given state\n",
    "    Args:\n",
    "    - network (Pytorch Model): neural network used in forward pass\n",
    "    - state (Array): environment state\n",
    "    \n",
    "    Return:\n",
    "    - action.item() (float): continuous action\n",
    "    - log_action (float): log of probability density of action\n",
    "    \n",
    "    '''\n",
    "    \n",
    "    #create state tensor\n",
    "    state_tensor = torch.from_numpy(state).float().unsqueeze(0).to(device)\n",
    "    state_tensor.required_grad = True\n",
    "    \n",
    "    #forward pass through network\n",
    "    action_parameters = network(state_tensor)\n",
    "    \n",
    "    #get mean and std, get Normal distribution\n",
    "    mu, sigma = action_parameters[:, :1], torch.exp(action_parameters[:, 1:])\n",
    "    m = Normal(mu[:, 0], sigma[:, 0])\n",
    "\n",
    "    #sample action, get log probability\n",
    "    action = m.sample()\n",
    "    log_action = m.log_prob(action)\n",
    "\n",
    "    return action.item(), log_action, mu[:, 0].item(), sigma[:, 0].item(), action_parameters"
   ]
  },
  {
   "cell_type": "code",
   "execution_count": 6,
   "metadata": {},
   "outputs": [],
   "source": [
    "def process_rewards(rewards):\n",
    "    ''' Converts our rewards history into cumulative discounted rewards\n",
    "    Args:\n",
    "    - rewards (Array): array of rewards \n",
    "    \n",
    "    Returns:\n",
    "    - G (Array): array of cumulative discounted rewards\n",
    "    '''\n",
    "    #Calculate Gt (cumulative discounted rewards)\n",
    "    G = []\n",
    "    \n",
    "    #track cumulative reward\n",
    "    total_r = 0\n",
    "    \n",
    "    #iterate rewards from Gt to G0\n",
    "    for r in reversed(rewards):\n",
    "        \n",
    "        #Base case: G(T) = r(T)\n",
    "        #Recursive: G(t) = r(t) + G(t+1)*DISCOUNT\n",
    "        total_r = r + total_r * DISCOUNT_FACTOR\n",
    "        \n",
    "        #add to front of G\n",
    "        G.insert(0, total_r)\n",
    "    \n",
    "    #whitening rewards\n",
    "    G = torch.tensor(G).to(device)\n",
    "    G = (G - G.mean())/G.std()\n",
    "    \n",
    "    return G\n",
    "\n",
    "def policy_loss(old_log_prob, log_prob, advantage, eps):\n",
    "    ratio = (log_prob - old_log_prob).exp()\n",
    "    clipped = torch.clamp(ratio, 1-eps, 1+eps)*advantage\n",
    "    \n",
    "    m = torch.min(ratio*advantage, clipped)\n",
    "    return -m"
   ]
  },
  {
   "cell_type": "code",
   "execution_count": 7,
   "metadata": {},
   "outputs": [
    {
     "name": "stderr",
     "output_type": "stream",
     "text": [
      "/home/a.shankar/Documents/Work/ContinuousRL/.env/lib/python3.10/site-packages/gymnasium/envs/registration.py:485: UserWarning: \u001b[33mWARN: The environment creator metadata doesn't include `render_modes`, contains: ['render.modes', 'video.frames_per_second']\u001b[0m\n",
      "  logger.warn(\n",
      "/home/a.shankar/Documents/Work/ContinuousRL/.env/lib/python3.10/site-packages/gymnasium/spaces/box.py:235: UserWarning: \u001b[33mWARN: Box low's precision lowered by casting to float32, current low.dtype=float64\u001b[0m\n",
      "  gym.logger.warn(\n",
      "/home/a.shankar/Documents/Work/ContinuousRL/.env/lib/python3.10/site-packages/gymnasium/spaces/box.py:305: UserWarning: \u001b[33mWARN: Box high's precision lowered by casting to float32, current high.dtype=float64\u001b[0m\n",
      "  gym.logger.warn(\n"
     ]
    }
   ],
   "source": [
    "#Make environment\n",
    "env = gym.make('ContinuousCartPole-v0')\n",
    "\n",
    "#Init network\n",
    "actor = Actor(env.observation_space.shape[0]).to(device)\n",
    "critic = Critic(env.observation_space.shape[0]).to(device)\n",
    "\n",
    "#Init optimizer\n",
    "actor_optimizer = optim.Adam(actor.parameters(), lr=0.001)\n",
    "critic_optimizer = optim.Adam(critic.parameters(), lr=0.001)"
   ]
  },
  {
   "cell_type": "code",
   "execution_count": 8,
   "metadata": {
    "scrolled": false
   },
   "outputs": [
    {
     "name": "stderr",
     "output_type": "stream",
     "text": [
      "  0%|          | 0/2000 [00:00<?, ?it/s]/tmp/ipykernel_55833/2404174172.py:32: UserWarning: To copy construct from a tensor, it is recommended to use sourceTensor.clone().detach() or sourceTensor.clone().detach().requires_grad_(True), rather than torch.tensor(sourceTensor).\n",
      "  logprobs[step] = torch.tensor(prob_act, dtype=torch.float32, device=device)\n",
      "100%|██████████| 2000/2000 [19:50<00:00,  1.68it/s]\n"
     ]
    }
   ],
   "source": [
    "episode_rewards = []\n",
    "gamma = 0.98\n",
    "lambda_ = 0.95\n",
    "eps = 0.2\n",
    "log = False\n",
    "s = 0\n",
    "max_grad_norm = 0.5\n",
    "\n",
    "#iterate through episodes\n",
    "for episode in tqdm(range(NUM_EPISODES)):\n",
    "    \n",
    "    prev_prob_act = None\n",
    "    done = False\n",
    "    total_reward = 0\n",
    "    state, _ = env.reset()\n",
    "\n",
    "    \n",
    "    observations = torch.zeros((MAX_STEPS,)+env.observation_space.shape, dtype=torch.float32).to(device)\n",
    "    actions = torch.zeros((MAX_STEPS,1), dtype=torch.float32).to(device)\n",
    "    # action_params = torch.zeros((MAX_STEPS,2), dtype=torch.float32).to(device)\n",
    "    logprobs = torch.zeros((MAX_STEPS,), dtype=torch.float32).to(device)\n",
    "    rewards = torch.zeros((MAX_STEPS,), dtype=torch.float32).to(device)\n",
    "    dones = torch.zeros((MAX_STEPS,), dtype=torch.float32).to(device)\n",
    "    values = torch.zeros((MAX_STEPS,), dtype=torch.float32).to(device)\n",
    "    #generate episode\n",
    "    for step in range(MAX_STEPS):\n",
    "        #env.render()\n",
    "        with torch.no_grad():\n",
    "            action, prob_act, means, stds, action_param = select_action(actor, state)\n",
    "        # action_params[step] = torch.tensor(action_param, dtype=torch.float32, device=device)\n",
    "        actions[step] = torch.tensor(action, dtype=torch.float32, device=device)\n",
    "        logprobs[step] = torch.tensor(prob_act, dtype=torch.float32, device=device)\n",
    "        state = torch.tensor(state, dtype=torch.float32, device=device)\n",
    "        observations[step] = state\n",
    "\n",
    "        value = critic(state).flatten()\n",
    "        state, reward, done, _, info = env.step(action)\n",
    "        rewards[step] = torch.tensor(reward, dtype=torch.float32, device=device)\n",
    "        \n",
    "        values[step] = value\n",
    "        dones[step] = torch.tensor(done, dtype=torch.float32, device=device)\n",
    "        if done: break\n",
    "    advantages = torch.zeros_like(rewards).to(device)\n",
    "    lastgaelam = 0\n",
    "    done_index = dones.nonzero().max().item() if dones.any() else MAX_STEPS\n",
    "    for t in reversed(range(done_index)):\n",
    "        if t == MAX_STEPS - 1:\n",
    "            advantages[t] = lastgaelam = rewards[t] + (1- dones[t]) * gamma * values[t] + gamma * lambda_ * (1-dones[t]) * lastgaelam\n",
    "        else:\n",
    "            advantages[t] = lastgaelam = rewards[t] + (1-dones[t+1]) * gamma * values[t+1] - (1-dones[t])*values[t] + gamma * lambda_ * (1-dones[t+1]) * lastgaelam\n",
    "    total_reward += rewards.sum()\n",
    "\n",
    "    action_params = actor(observations)\n",
    "    mu, sigma = action_params[:, :1], torch.exp(action_params[:, 1:])\n",
    "    m = Normal(mu.flatten(), sigma.flatten())\n",
    "    new_logprobs = m.log_prob(actions.flatten())\n",
    "    \n",
    "    actor_loss = policy_loss(logprobs, new_logprobs, advantages.detach(), eps).mean()\n",
    "    actor_optimizer.zero_grad()\n",
    "    actor_loss.backward()\n",
    "    actor_optimizer.step()\n",
    "\n",
    "    critic_loss = advantages.pow(2).mean()\n",
    "    critic_optimizer.zero_grad()\n",
    "    critic_loss.backward()\n",
    "    critic_optimizer.step()\n",
    "    episode_rewards.append(total_reward)\n",
    "\n",
    "env.close()"
   ]
  },
  {
   "cell_type": "markdown",
   "metadata": {},
   "source": [
    "#### Plotting training score:"
   ]
  },
  {
   "cell_type": "code",
   "execution_count": 9,
   "metadata": {
    "scrolled": false
   },
   "outputs": [
    {
     "data": {
      "image/png": "[encoded data removed]",
      "text/plain": [
       "<Figure size 640x480 with 1 Axes>"
      ]
     },
     "metadata": {},
     "output_type": "display_data"
    }
   ],
   "source": [
    "import matplotlib.pyplot as plt\n",
    "from sklearn.linear_model import LinearRegression\n",
    "import seaborn as sns\n",
    "import numpy as np\n",
    "\n",
    "sns.set()\n",
    "\n",
    "graphed_array = episode_rewards\n",
    "\n",
    "plt.plot(graphed_array)\n",
    "plt.ylabel('Scores')\n",
    "plt.xlabel('Episodes')\n",
    "plt.title('Training scores for Continuous CartPole with PPO')\n",
    "plt.axis((None,None,None,None))\n",
    "\n",
    "reg = LinearRegression().fit(np.arange(len(graphed_array)).reshape(-1, 1), np.array(graphed_array).reshape(-1, 1))\n",
    "y_pred = reg.predict(np.arange(len(graphed_array)).reshape(-1, 1))\n",
    "plt.plot(y_pred)\n",
    "plt.show()"
   ]
  },
  {
   "cell_type": "markdown",
   "metadata": {},
   "source": [
    "#### Random Policy:"
   ]
  },
  {
   "cell_type": "code",
   "execution_count": 10,
   "metadata": {},
   "outputs": [
    {
     "name": "stderr",
     "output_type": "stream",
     "text": [
      "  0%|          | 0/50 [00:00<?, ?it/s]/home/a.shankar/Documents/Work/ContinuousRL/.env/lib/python3.10/site-packages/gymnasium/utils/passive_env_checker.py:317: UserWarning: \u001b[33mWARN: No render modes was declared in the environment (env.metadata['render_modes'] is None or not defined), you may have trouble when calling `.render()`.\u001b[0m\n",
      "  logger.warn(\n",
      "  0%|          | 0/50 [00:00<?, ?it/s]\n"
     ]
    },
    {
     "ename": "ImportError",
     "evalue": "cannot import name 'rendering' from 'gym.envs.classic_control' (/home/a.shankar/Documents/Work/ContinuousRL/.env/lib/python3.10/site-packages/gym/envs/classic_control/__init__.py)",
     "output_type": "error",
     "traceback": [
      "\u001b[0;31m---------------------------------------------------------------------------\u001b[0m",
      "\u001b[0;31mImportError\u001b[0m                               Traceback (most recent call last)",
      "Cell \u001b[0;32mIn[10], line 10\u001b[0m\n\u001b[1;32m      8\u001b[0m score \u001b[38;5;241m=\u001b[39m \u001b[38;5;241m0\u001b[39m\n\u001b[1;32m      9\u001b[0m \u001b[38;5;28;01mwhile\u001b[39;00m \u001b[38;5;129;01mnot\u001b[39;00m done:\n\u001b[0;32m---> 10\u001b[0m     \u001b[43menv\u001b[49m\u001b[38;5;241;43m.\u001b[39;49m\u001b[43mrender\u001b[49m\u001b[43m(\u001b[49m\u001b[43m)\u001b[49m\n\u001b[1;32m     11\u001b[0m     action \u001b[38;5;241m=\u001b[39m env\u001b[38;5;241m.\u001b[39maction_space\u001b[38;5;241m.\u001b[39msample()\n\u001b[1;32m     12\u001b[0m     new_state, reward, done, info \u001b[38;5;241m=\u001b[39m env\u001b[38;5;241m.\u001b[39mstep(action)\n",
      "File \u001b[0;32m~/Documents/Work/ContinuousRL/.env/lib/python3.10/site-packages/gymnasium/wrappers/common.py:409\u001b[0m, in \u001b[0;36mOrderEnforcing.render\u001b[0;34m(self)\u001b[0m\n\u001b[1;32m    404\u001b[0m \u001b[38;5;28;01mif\u001b[39;00m \u001b[38;5;129;01mnot\u001b[39;00m \u001b[38;5;28mself\u001b[39m\u001b[38;5;241m.\u001b[39m_disable_render_order_enforcing \u001b[38;5;129;01mand\u001b[39;00m \u001b[38;5;129;01mnot\u001b[39;00m \u001b[38;5;28mself\u001b[39m\u001b[38;5;241m.\u001b[39m_has_reset:\n\u001b[1;32m    405\u001b[0m     \u001b[38;5;28;01mraise\u001b[39;00m ResetNeeded(\n\u001b[1;32m    406\u001b[0m         \u001b[38;5;124m\"\u001b[39m\u001b[38;5;124mCannot call `env.render()` before calling `env.reset()`, if this is an intended action, \u001b[39m\u001b[38;5;124m\"\u001b[39m\n\u001b[1;32m    407\u001b[0m         \u001b[38;5;124m\"\u001b[39m\u001b[38;5;124mset `disable_render_order_enforcing=True` on the OrderEnforcer wrapper.\u001b[39m\u001b[38;5;124m\"\u001b[39m\n\u001b[1;32m    408\u001b[0m     )\n\u001b[0;32m--> 409\u001b[0m \u001b[38;5;28;01mreturn\u001b[39;00m \u001b[38;5;28;43msuper\u001b[39;49m\u001b[43m(\u001b[49m\u001b[43m)\u001b[49m\u001b[38;5;241;43m.\u001b[39;49m\u001b[43mrender\u001b[49m\u001b[43m(\u001b[49m\u001b[43m)\u001b[49m\n",
      "File \u001b[0;32m~/Documents/Work/ContinuousRL/.env/lib/python3.10/site-packages/gymnasium/core.py:332\u001b[0m, in \u001b[0;36mWrapper.render\u001b[0;34m(self)\u001b[0m\n\u001b[1;32m    330\u001b[0m \u001b[38;5;28;01mdef\u001b[39;00m\u001b[38;5;250m \u001b[39m\u001b[38;5;21mrender\u001b[39m(\u001b[38;5;28mself\u001b[39m) \u001b[38;5;241m-\u001b[39m\u001b[38;5;241m>\u001b[39m RenderFrame \u001b[38;5;241m|\u001b[39m \u001b[38;5;28mlist\u001b[39m[RenderFrame] \u001b[38;5;241m|\u001b[39m \u001b[38;5;28;01mNone\u001b[39;00m:\n\u001b[1;32m    331\u001b[0m \u001b[38;5;250m    \u001b[39m\u001b[38;5;124;03m\"\"\"Uses the :meth:`render` of the :attr:`env` that can be overwritten to change the returned data.\"\"\"\u001b[39;00m\n\u001b[0;32m--> 332\u001b[0m     \u001b[38;5;28;01mreturn\u001b[39;00m \u001b[38;5;28;43mself\u001b[39;49m\u001b[38;5;241;43m.\u001b[39;49m\u001b[43menv\u001b[49m\u001b[38;5;241;43m.\u001b[39;49m\u001b[43mrender\u001b[49m\u001b[43m(\u001b[49m\u001b[43m)\u001b[49m\n",
      "File \u001b[0;32m~/Documents/Work/ContinuousRL/.env/lib/python3.10/site-packages/gymnasium/wrappers/common.py:301\u001b[0m, in \u001b[0;36mPassiveEnvChecker.render\u001b[0;34m(self)\u001b[0m\n\u001b[1;32m    299\u001b[0m \u001b[38;5;28;01mif\u001b[39;00m \u001b[38;5;28mself\u001b[39m\u001b[38;5;241m.\u001b[39mchecked_render \u001b[38;5;129;01mis\u001b[39;00m \u001b[38;5;28;01mFalse\u001b[39;00m:\n\u001b[1;32m    300\u001b[0m     \u001b[38;5;28mself\u001b[39m\u001b[38;5;241m.\u001b[39mchecked_render \u001b[38;5;241m=\u001b[39m \u001b[38;5;28;01mTrue\u001b[39;00m\n\u001b[0;32m--> 301\u001b[0m     \u001b[38;5;28;01mreturn\u001b[39;00m \u001b[43menv_render_passive_checker\u001b[49m\u001b[43m(\u001b[49m\u001b[38;5;28;43mself\u001b[39;49m\u001b[38;5;241;43m.\u001b[39;49m\u001b[43menv\u001b[49m\u001b[43m)\u001b[49m\n\u001b[1;32m    302\u001b[0m \u001b[38;5;28;01melse\u001b[39;00m:\n\u001b[1;32m    303\u001b[0m     \u001b[38;5;28;01mreturn\u001b[39;00m \u001b[38;5;28mself\u001b[39m\u001b[38;5;241m.\u001b[39menv\u001b[38;5;241m.\u001b[39mrender()\n",
      "File \u001b[0;32m~/Documents/Work/ContinuousRL/.env/lib/python3.10/site-packages/gymnasium/utils/passive_env_checker.py:361\u001b[0m, in \u001b[0;36menv_render_passive_checker\u001b[0;34m(env)\u001b[0m\n\u001b[1;32m    355\u001b[0m     \u001b[38;5;28;01melse\u001b[39;00m:\n\u001b[1;32m    356\u001b[0m         \u001b[38;5;28;01massert\u001b[39;00m env\u001b[38;5;241m.\u001b[39mrender_mode \u001b[38;5;129;01mis\u001b[39;00m \u001b[38;5;28;01mNone\u001b[39;00m \u001b[38;5;129;01mor\u001b[39;00m env\u001b[38;5;241m.\u001b[39mrender_mode \u001b[38;5;129;01min\u001b[39;00m render_modes, (\n\u001b[1;32m    357\u001b[0m             \u001b[38;5;124m\"\u001b[39m\u001b[38;5;124mThe environment was initialized successfully however with an unsupported render mode. \u001b[39m\u001b[38;5;124m\"\u001b[39m\n\u001b[1;32m    358\u001b[0m             \u001b[38;5;124mf\u001b[39m\u001b[38;5;124m\"\u001b[39m\u001b[38;5;124mRender mode: \u001b[39m\u001b[38;5;132;01m{\u001b[39;00menv\u001b[38;5;241m.\u001b[39mrender_mode\u001b[38;5;132;01m}\u001b[39;00m\u001b[38;5;124m, modes: \u001b[39m\u001b[38;5;132;01m{\u001b[39;00mrender_modes\u001b[38;5;132;01m}\u001b[39;00m\u001b[38;5;124m\"\u001b[39m\n\u001b[1;32m    359\u001b[0m         )\n\u001b[0;32m--> 361\u001b[0m result \u001b[38;5;241m=\u001b[39m \u001b[43menv\u001b[49m\u001b[38;5;241;43m.\u001b[39;49m\u001b[43mrender\u001b[49m\u001b[43m(\u001b[49m\u001b[43m)\u001b[49m\n\u001b[1;32m    362\u001b[0m \u001b[38;5;28;01mif\u001b[39;00m env\u001b[38;5;241m.\u001b[39mrender_mode \u001b[38;5;129;01mis\u001b[39;00m \u001b[38;5;129;01mnot\u001b[39;00m \u001b[38;5;28;01mNone\u001b[39;00m:\n\u001b[1;32m    363\u001b[0m     _check_render_return(env\u001b[38;5;241m.\u001b[39mrender_mode, result)\n",
      "File \u001b[0;32m~/Documents/Work/ContinuousRL/ContinuousCartPole-v0/continuouscartpole_env/continuouscartpole_env.py:117\u001b[0m, in \u001b[0;36mContinuousCartPoleEnv.render\u001b[0;34m(self, mode)\u001b[0m\n\u001b[1;32m    114\u001b[0m cartheight \u001b[38;5;241m=\u001b[39m \u001b[38;5;241m30.0\u001b[39m\n\u001b[1;32m    116\u001b[0m \u001b[38;5;28;01mif\u001b[39;00m \u001b[38;5;28mself\u001b[39m\u001b[38;5;241m.\u001b[39mviewer \u001b[38;5;129;01mis\u001b[39;00m \u001b[38;5;28;01mNone\u001b[39;00m:\n\u001b[0;32m--> 117\u001b[0m     \u001b[38;5;28;01mfrom\u001b[39;00m\u001b[38;5;250m \u001b[39m\u001b[38;5;21;01mgym\u001b[39;00m\u001b[38;5;21;01m.\u001b[39;00m\u001b[38;5;21;01menvs\u001b[39;00m\u001b[38;5;21;01m.\u001b[39;00m\u001b[38;5;21;01mclassic_control\u001b[39;00m\u001b[38;5;250m \u001b[39m\u001b[38;5;28;01mimport\u001b[39;00m rendering\n\u001b[1;32m    118\u001b[0m     \u001b[38;5;28mself\u001b[39m\u001b[38;5;241m.\u001b[39mviewer \u001b[38;5;241m=\u001b[39m rendering\u001b[38;5;241m.\u001b[39mViewer(screen_width, screen_height)\n\u001b[1;32m    119\u001b[0m     l, r, t, b \u001b[38;5;241m=\u001b[39m \u001b[38;5;241m-\u001b[39mcartwidth \u001b[38;5;241m/\u001b[39m \u001b[38;5;241m2\u001b[39m, cartwidth \u001b[38;5;241m/\u001b[39m \u001b[38;5;241m2\u001b[39m, cartheight \u001b[38;5;241m/\u001b[39m \u001b[38;5;241m2\u001b[39m, \u001b[38;5;241m-\u001b[39mcartheight \u001b[38;5;241m/\u001b[39m \u001b[38;5;241m2\u001b[39m\n",
      "\u001b[0;31mImportError\u001b[0m: cannot import name 'rendering' from 'gym.envs.classic_control' (/home/a.shankar/Documents/Work/ContinuousRL/.env/lib/python3.10/site-packages/gym/envs/classic_control/__init__.py)"
     ]
    }
   ],
   "source": [
    "done = False\n",
    "state = env.reset()\n",
    "scores = []\n",
    "\n",
    "for _ in tqdm(range(50)):\n",
    "    state = env.reset()\n",
    "    done = False\n",
    "    score = 0\n",
    "    while not done:\n",
    "        env.render()\n",
    "        action = env.action_space.sample()\n",
    "        new_state, reward, done, info = env.step(action)\n",
    "        score += reward\n",
    "        state = new_state\n",
    "    scores.append(score)\n",
    "env.close()"
   ]
  },
  {
   "cell_type": "markdown",
   "metadata": {},
   "source": [
    "#### Trying Policy:"
   ]
  },
  {
   "cell_type": "code",
   "execution_count": 27,
   "metadata": {},
   "outputs": [
    {
     "data": {
      "application/vnd.jupyter.widget-view+json": {
       "model_id": "6318247c00bd480fa6be5dc405436ea2",
       "version_major": 2,
       "version_minor": 0
      },
      "text/plain": [
       "HBox(children=(IntProgress(value=0, max=50), HTML(value='')))"
      ]
     },
     "metadata": {},
     "output_type": "display_data"
    },
    {
     "name": "stdout",
     "output_type": "stream",
     "text": [
      "\n"
     ]
    }
   ],
   "source": [
    "done = False\n",
    "state = env.reset()\n",
    "scores = []\n",
    "\n",
    "for _ in tqdm_notebook(range(50)):\n",
    "    state = env.reset()\n",
    "    done = False\n",
    "    score = 0\n",
    "    for step in range(MAX_STEPS):\n",
    "        #env.render()\n",
    "        action, la, mu, sigma = select_action(network, state)\n",
    "        new_state, reward, done, info = env.step(action)\n",
    "        score += reward\n",
    "        state = new_state\n",
    "        \n",
    "        if done:\n",
    "            break\n",
    "    scores.append(score)\n",
    "env.close()"
   ]
  },
  {
   "cell_type": "code",
   "execution_count": 28,
   "metadata": {},
   "outputs": [
    {
     "data": {
      "text/plain": [
       "381.8"
      ]
     },
     "execution_count": 28,
     "metadata": {},
     "output_type": "execute_result"
    }
   ],
   "source": [
    "np.array(scores).mean()"
   ]
  },
  {
   "cell_type": "code",
   "execution_count": 13,
   "metadata": {},
   "outputs": [],
   "source": [
    "env.close()"
   ]
  },
  {
   "cell_type": "code",
   "execution_count": null,
   "metadata": {},
   "outputs": [],
   "source": []
  }
 ],
 "metadata": {
  "kernelspec": {
   "display_name": ".env",
   "language": "python",
   "name": "python3"
  },
  "language_info": {
   "codemirror_mode": {
    "name": "ipython",
    "version": 3
   },
   "file_extension": ".py",
   "mimetype": "text/x-python",
   "name": "python",
   "nbconvert_exporter": "python",
   "pygments_lexer": "ipython3",
   "version": "3.10.12"
  }
 },
 "nbformat": 4,
 "nbformat_minor": 2
}
