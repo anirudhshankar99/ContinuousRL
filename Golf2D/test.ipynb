{
 "cells": [
  {
   "cell_type": "code",
   "execution_count": 1,
   "metadata": {},
   "outputs": [
    {
     "name": "stdout",
     "output_type": "stream",
     "text": [
      "pygame 2.6.1 (SDL 2.28.4, Python 3.10.12)\n",
      "Hello from the pygame community. https://www.pygame.org/contribute.html\n"
     ]
    }
   ],
   "source": [
    "import pymunk               # Import pymunk..\n",
    "import pygame\n",
    "import environment\n",
    "\n",
    "# pygame.init()\n",
    "\n",
    "# FPS = 50\n",
    "# DISP_WIDTH = 800\n",
    "# DISP_HEIGHT = 600\n",
    "\n",
    "# display = pygame.display.set_mode((DISP_WIDTH, DISP_HEIGHT))\n",
    "# clock = pygame.time.Clock()\n",
    "# space = pymunk.Space()\n",
    "\n",
    "# space.gravity = 0,-981/FPS*10\n",
    "# body = pymunk.Body()\n",
    "# body.position = 400, 400\n",
    "# shape = pymunk.Circle(body, radius=10)\n",
    "# shape.density = 1\n",
    "# shape.elasticity = 1\n",
    "# space.add(body, shape)\n",
    "\n",
    "# segment_body = pymunk.Body(body_type=pymunk.Body.STATIC)\n",
    "# segment_shape = pymunk.Segment(segment_body, (0,50), (DISP_WIDTH, 50), 5)\n",
    "# segment_shape.elasticity = 1\n",
    "# space.add(segment_body, segment_shape)\n",
    "\n",
    "# def convert_position(position): # pygame origin at topleft, pymunk origin at bottomleft\n",
    "#     return position[0], DISP_HEIGHT - position[1]\n",
    "\n",
    "# def game():\n",
    "#     try:\n",
    "#         while True:\n",
    "\n",
    "#             for event in pygame.event.get():\n",
    "#                 if event.type == pygame.QUIT:\n",
    "#                     return\n",
    "                \n",
    "#             display.fill((255, 255, 255))\n",
    "#             x, y = convert_position(body.position)\n",
    "#             pygame.draw.circle(display, (255, 0, 0), (int(x), int(y)), 10)\n",
    "#             pygame.draw.line(display, (0, 0, 0), convert_position((0, 50+5/2)), convert_position((DISP_WIDTH, 50+5/2)), 5) # 50 + 5/2 as pymunk draws segment width above, and mygame draws around\n",
    "\n",
    "#             pygame.display.update()    \n",
    "#             clock.tick(FPS)\n",
    "#             space.step(1/FPS)\n",
    "#     except: return\n",
    "\n",
    "# game()\n",
    "# pygame.quit()"
   ]
  },
  {
   "cell_type": "code",
   "execution_count": 2,
   "metadata": {},
   "outputs": [
    {
     "name": "stderr",
     "output_type": "stream",
     "text": [
      "/home/a.shankar/Documents/Work/ContinuousRL/.env/lib/python3.10/site-packages/gym/spaces/box.py:127: UserWarning: \u001b[33mWARN: Box bound precision lowered by casting to float32\u001b[0m\n",
      "  logger.warn(f\"Box bound precision lowered by casting to {self.dtype}\")\n"
     ]
    }
   ],
   "source": [
    "env = environment.GolfEnv()\n",
    "env.game()\n",
    "\n",
    "pygame.quit()"
   ]
  }
 ],
 "metadata": {
  "kernelspec": {
   "display_name": ".env",
   "language": "python",
   "name": "python3"
  },
  "language_info": {
   "codemirror_mode": {
    "name": "ipython",
    "version": 3
   },
   "file_extension": ".py",
   "mimetype": "text/x-python",
   "name": "python",
   "nbconvert_exporter": "python",
   "pygments_lexer": "ipython3",
   "version": "3.10.12"
  }
 },
 "nbformat": 4,
 "nbformat_minor": 2
}
